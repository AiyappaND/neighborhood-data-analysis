{
 "cells": [
  {
   "cell_type": "markdown",
   "metadata": {},
   "source": [
    "## Property Price Analysis/Visualization in London\n",
    "\n",
    "### Introduction\n",
    "\n",
    "When someone looks to move from one neighborhood to another in a major city, it can be assumed that they will usually look for neighborhoods similar/dissimilar to the one they have stayed in earlier. This can be a factor when deciding which neighborhood to move to. So, after retrieving property prices and relevant neighborhood data from Foursquare API, a system can be designed to cluster/classify neighborhoods and help the stakeholders decide on the best fit according to their preferences"
   ]
  },
  {
   "cell_type": "markdown",
   "metadata": {},
   "source": [
    "### Data Section\n",
    "\n",
    "To build this service, we make use of property prices data from propertydata.co.uk and Foursquare API for the other venue/amenity details. Combining both, we can make a dataset to compare the amenities/prices of individual neighborhoods and then cluster them based on similarity."
   ]
  },
  {
   "cell_type": "code",
   "execution_count": 5,
   "metadata": {},
   "outputs": [],
   "source": [
    "import numpy as np\n",
    "import pandas as pd\n",
    "import wikipedia as wiki"
   ]
  },
  {
   "cell_type": "markdown",
   "metadata": {},
   "source": [
    "#### Area Codes\n",
    "\n",
    "This is a sample of the area codes/neighborhoods of London"
   ]
  },
  {
   "cell_type": "code",
   "execution_count": 6,
   "metadata": {},
   "outputs": [
    {
     "data": {
      "text/html": [
       "<div>\n",
       "<style scoped>\n",
       "    .dataframe tbody tr th:only-of-type {\n",
       "        vertical-align: middle;\n",
       "    }\n",
       "\n",
       "    .dataframe tbody tr th {\n",
       "        vertical-align: top;\n",
       "    }\n",
       "\n",
       "    .dataframe thead th {\n",
       "        text-align: right;\n",
       "    }\n",
       "</style>\n",
       "<table border=\"1\" class=\"dataframe\">\n",
       "  <thead>\n",
       "    <tr style=\"text-align: right;\">\n",
       "      <th></th>\n",
       "      <th>Location</th>\n",
       "      <th>London borough</th>\n",
       "      <th>Post town</th>\n",
       "      <th>Postcode district</th>\n",
       "      <th>Dial code</th>\n",
       "      <th>OS grid ref</th>\n",
       "    </tr>\n",
       "  </thead>\n",
       "  <tbody>\n",
       "    <tr>\n",
       "      <th>0</th>\n",
       "      <td>Abbey Wood</td>\n",
       "      <td>Bexley, Greenwich [7]</td>\n",
       "      <td>LONDON</td>\n",
       "      <td>SE2</td>\n",
       "      <td>020</td>\n",
       "      <td>TQ465785</td>\n",
       "    </tr>\n",
       "    <tr>\n",
       "      <th>1</th>\n",
       "      <td>Acton</td>\n",
       "      <td>Ealing, Hammersmith and Fulham[8]</td>\n",
       "      <td>LONDON</td>\n",
       "      <td>W3, W4</td>\n",
       "      <td>020</td>\n",
       "      <td>TQ205805</td>\n",
       "    </tr>\n",
       "    <tr>\n",
       "      <th>2</th>\n",
       "      <td>Addington</td>\n",
       "      <td>Croydon[8]</td>\n",
       "      <td>CROYDON</td>\n",
       "      <td>CR0</td>\n",
       "      <td>020</td>\n",
       "      <td>TQ375645</td>\n",
       "    </tr>\n",
       "    <tr>\n",
       "      <th>3</th>\n",
       "      <td>Addiscombe</td>\n",
       "      <td>Croydon[8]</td>\n",
       "      <td>CROYDON</td>\n",
       "      <td>CR0</td>\n",
       "      <td>020</td>\n",
       "      <td>TQ345665</td>\n",
       "    </tr>\n",
       "    <tr>\n",
       "      <th>4</th>\n",
       "      <td>Albany Park</td>\n",
       "      <td>Bexley</td>\n",
       "      <td>BEXLEY, SIDCUP</td>\n",
       "      <td>DA5, DA14</td>\n",
       "      <td>020</td>\n",
       "      <td>TQ478728</td>\n",
       "    </tr>\n",
       "  </tbody>\n",
       "</table>\n",
       "</div>"
      ],
      "text/plain": [
       "      Location                     London borough       Post town  \\\n",
       "0   Abbey Wood              Bexley, Greenwich [7]          LONDON   \n",
       "1        Acton  Ealing, Hammersmith and Fulham[8]          LONDON   \n",
       "2    Addington                         Croydon[8]         CROYDON   \n",
       "3   Addiscombe                         Croydon[8]         CROYDON   \n",
       "4  Albany Park                             Bexley  BEXLEY, SIDCUP   \n",
       "\n",
       "  Postcode district Dial code OS grid ref  \n",
       "0               SE2       020    TQ465785  \n",
       "1            W3, W4       020    TQ205805  \n",
       "2               CR0       020    TQ375645  \n",
       "3               CR0       020    TQ345665  \n",
       "4         DA5, DA14       020    TQ478728  "
      ]
     },
     "execution_count": 6,
     "metadata": {},
     "output_type": "execute_result"
    }
   ],
   "source": [
    "area_list = wiki.page(\"List of areas of London\").html().encode(\"UTF-8\")\n",
    "area_df = pd.read_html(area_list)[1]\n",
    "area_df.head()"
   ]
  },
  {
   "cell_type": "markdown",
   "metadata": {},
   "source": [
    "#### Property Prices Sample\n",
    "\n",
    "This is a sample of the property prices retrieved from propertydata.co.uk"
   ]
  },
  {
   "cell_type": "code",
   "execution_count": 8,
   "metadata": {},
   "outputs": [
    {
     "data": {
      "text/html": [
       "<div>\n",
       "<style scoped>\n",
       "    .dataframe tbody tr th:only-of-type {\n",
       "        vertical-align: middle;\n",
       "    }\n",
       "\n",
       "    .dataframe tbody tr th {\n",
       "        vertical-align: top;\n",
       "    }\n",
       "\n",
       "    .dataframe thead th {\n",
       "        text-align: right;\n",
       "    }\n",
       "</style>\n",
       "<table border=\"1\" class=\"dataframe\">\n",
       "  <thead>\n",
       "    <tr style=\"text-align: right;\">\n",
       "      <th></th>\n",
       "      <th>Area</th>\n",
       "      <th>Avg yield</th>\n",
       "      <th>Avg price</th>\n",
       "      <th>£/sqft</th>\n",
       "      <th>5yr +/-</th>\n",
       "      <th>Explore data</th>\n",
       "    </tr>\n",
       "  </thead>\n",
       "  <tbody>\n",
       "    <tr>\n",
       "      <th>0</th>\n",
       "      <td>BR1</td>\n",
       "      <td>3.7%</td>\n",
       "      <td>£434,470</td>\n",
       "      <td>£461</td>\n",
       "      <td>+24%</td>\n",
       "      <td>Explore data</td>\n",
       "    </tr>\n",
       "    <tr>\n",
       "      <th>1</th>\n",
       "      <td>BR2</td>\n",
       "      <td>3.4%</td>\n",
       "      <td>£480,252</td>\n",
       "      <td>£468</td>\n",
       "      <td>+25%</td>\n",
       "      <td>Explore data</td>\n",
       "    </tr>\n",
       "    <tr>\n",
       "      <th>2</th>\n",
       "      <td>BR3</td>\n",
       "      <td>3.6%</td>\n",
       "      <td>£442,642</td>\n",
       "      <td>£493</td>\n",
       "      <td>+25%</td>\n",
       "      <td>Explore data</td>\n",
       "    </tr>\n",
       "    <tr>\n",
       "      <th>3</th>\n",
       "      <td>BR5</td>\n",
       "      <td>3.2%</td>\n",
       "      <td>£462,260</td>\n",
       "      <td>£427</td>\n",
       "      <td>+24%</td>\n",
       "      <td>Explore data</td>\n",
       "    </tr>\n",
       "    <tr>\n",
       "      <th>4</th>\n",
       "      <td>BR6</td>\n",
       "      <td>2.9%</td>\n",
       "      <td>£570,996</td>\n",
       "      <td>£465</td>\n",
       "      <td>+25%</td>\n",
       "      <td>Explore data</td>\n",
       "    </tr>\n",
       "  </tbody>\n",
       "</table>\n",
       "</div>"
      ],
      "text/plain": [
       "  Area Avg yield Avg price £/sqft 5yr +/-  Explore data\n",
       "0  BR1      3.7%  £434,470   £461    +24%  Explore data\n",
       "1  BR2      3.4%  £480,252   £468    +25%  Explore data\n",
       "2  BR3      3.6%  £442,642   £493    +25%  Explore data\n",
       "3  BR5      3.2%  £462,260   £427    +24%  Explore data\n",
       "4  BR6      2.9%  £570,996   £465    +25%  Explore data"
      ]
     },
     "execution_count": 8,
     "metadata": {},
     "output_type": "execute_result"
    }
   ],
   "source": [
    "property_data_raw = pd.read_html(\"https://propertydata.co.uk/cities/london\",header=0)\n",
    "property_price_df=pd.DataFrame(data=property_data_raw[0])\n",
    "property_price_df.head()"
   ]
  },
  {
   "cell_type": "code",
   "execution_count": null,
   "metadata": {},
   "outputs": [],
   "source": []
  }
 ],
 "metadata": {
  "kernelspec": {
   "display_name": "Python 3",
   "language": "python",
   "name": "python3"
  },
  "language_info": {
   "codemirror_mode": {
    "name": "ipython",
    "version": 3
   },
   "file_extension": ".py",
   "mimetype": "text/x-python",
   "name": "python",
   "nbconvert_exporter": "python",
   "pygments_lexer": "ipython3",
   "version": "3.8.1"
  }
 },
 "nbformat": 4,
 "nbformat_minor": 4
}
