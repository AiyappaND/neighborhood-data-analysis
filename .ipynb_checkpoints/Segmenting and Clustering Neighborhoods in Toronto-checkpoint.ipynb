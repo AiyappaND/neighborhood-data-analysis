{
 "cells": [
  {
   "cell_type": "markdown",
   "metadata": {},
   "source": [
    "### Scrape Wikipedia Data into Pandas Dataframe with Beautifulsoup"
   ]
  },
  {
   "cell_type": "markdown",
   "metadata": {},
   "source": [
    "#### Get data From Wikipedia and load into a dictionary\n",
    "\n",
    "Here we get data from the specified Wikipedia page and use a combination of BeautifulSoup and Regex/String operations to extract the 3 data fields. They are then initially stored in a dictionary. "
   ]
  },
  {
   "cell_type": "code",
   "execution_count": 1,
   "metadata": {},
   "outputs": [],
   "source": [
    "import requests\n",
    "import re\n",
    "from bs4 import BeautifulSoup\n",
    "import pandas as pd\n",
    "\n",
    "website_url = requests.get('https://en.wikipedia.org/wiki/List_of_postal_codes_of_Canada:_M').text\n",
    "\n",
    "soup = BeautifulSoup(website_url,'html')\n",
    "\n",
    "my_table = soup.find('table',{'class':'wikitable sortable'})\n",
    "links=my_table.findAll('td')\n",
    "groups={}\n",
    "#Iterating over the links list in Groups of 3, as each Postal Code, Borough and Neighborhood belong to the same group.\n",
    "for i in range(0,len(links),3):\n",
    "    # Extract Postal Code using String slice. All postcodes have this same length and format.\n",
    "    postcode=str(links[i])[4:-5]\n",
    "    # Extract Borough using Regex. All boroughs have title field present.\n",
    "    try:\n",
    "        borough = re.search(r'title=\"(.+?)\"',str(links[i+1])).group(1)\n",
    "    except AttributeError:\n",
    "        borough = '' \n",
    "    # Extract those Neighborhoods which have a title attribute/tag present\n",
    "    try:\n",
    "        neighborhood = re.search(r'title=\"(.+?)\"',str(links[i+2])).group(1)\n",
    "    except AttributeError:\n",
    "        # Extract those Neighborhoods which do not have a title attribute/tag present, by using a regex for the <td> tag\n",
    "        try:\n",
    "            neighborhood = re.search(r'<td>(.+?)\\n</td>',str(links[i+2])).group(1)\n",
    "        except AttributeError:\n",
    "            neighborhood = ''\n",
    "    if(borough!=''):\n",
    "        #For multiple neighborhoods associated with the same Postal codeappend the Neighborhood to the one already present.\n",
    "        if(neighborhood==''or neighborhood=='Not assigned'):\n",
    "            neighborhood=borough\n",
    "        if(postcode in groups.keys()):\n",
    "            groups[postcode][1]=groups[postcode][1]+','+(neighborhood)\n",
    "        else:\n",
    "            groups[postcode]=[borough,neighborhood]"
   ]
  },
  {
   "cell_type": "markdown",
   "metadata": {},
   "source": [
    "#### Convert dictionary into Dataframe with required format\n",
    "\n",
    "Here the dictionary is converted into a dataframe of the required format."
   ]
  },
  {
   "cell_type": "code",
   "execution_count": 2,
   "metadata": {},
   "outputs": [
    {
     "name": "stdout",
     "output_type": "stream",
     "text": [
      "Sample:   PostalCode                 Borough                     Neighborhood\n",
      "0        M3A              North York                        Parkwoods\n",
      "1        M4A              North York                 Victoria Village\n",
      "2        M5A        Downtown Toronto                      Regent Park\n",
      "3        M6A              North York  Lawrence Heights,Lawrence Manor\n",
      "4        M7A        Downtown Toronto           Queen's Park (Toronto)\n",
      "5        M9A  Queen's Park (Toronto)           Queen's Park (Toronto)\n",
      "6        M1B    Scarborough, Toronto  Rouge, Toronto,Malvern, Toronto\n",
      "7        M3B              North York                  Don Mills North\n",
      "8        M4B               East York   Woodbine Gardens,Parkview Hill\n",
      "9        M5B        Downtown Toronto          Ryerson,Garden District\n",
      "Dataframe shape: (100, 3)\n"
     ]
    }
   ],
   "source": [
    "df=pd.DataFrame.from_dict(groups,orient='index',columns=['Borough','Neighborhood'])\n",
    "df.reset_index(inplace=True)\n",
    "df.rename(columns={'index':'PostalCode'},inplace=True)\n",
    "df=df.astype({'PostalCode': 'string','Borough': 'string','Neighborhood':'string'})\n",
    "print('Sample:',df.head(10))\n",
    "print('Dataframe shape:',df.shape)"
   ]
  },
  {
   "cell_type": "code",
   "execution_count": null,
   "metadata": {},
   "outputs": [],
   "source": []
  },
  {
   "cell_type": "code",
   "execution_count": null,
   "metadata": {},
   "outputs": [],
   "source": []
  }
 ],
 "metadata": {
  "kernelspec": {
   "display_name": "Python 3",
   "language": "python",
   "name": "python3"
  },
  "language_info": {
   "codemirror_mode": {
    "name": "ipython",
    "version": 3
   },
   "file_extension": ".py",
   "mimetype": "text/x-python",
   "name": "python",
   "nbconvert_exporter": "python",
   "pygments_lexer": "ipython3",
   "version": "3.8.1"
  }
 },
 "nbformat": 4,
 "nbformat_minor": 4
}
