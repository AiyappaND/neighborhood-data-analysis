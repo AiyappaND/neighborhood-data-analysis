{
 "cells": [
  {
   "cell_type": "markdown",
   "metadata": {},
   "source": [
    "### Scrape Wikipedia Data into Pandas Dataframe with Beautifulsoup"
   ]
  },
  {
   "cell_type": "markdown",
   "metadata": {},
   "source": [
    "#### Get data From Wikipedia and load into a dictionary\n",
    "\n",
    "Here we get data from the specified Wikipedia page and use a combination of BeautifulSoup and Regex/String operations to extract the 3 data fields. They are then initially stored in a dictionary. "
   ]
  },
  {
   "cell_type": "code",
   "execution_count": 31,
   "metadata": {},
   "outputs": [],
   "source": [
    "import requests\n",
    "import re\n",
    "from bs4 import BeautifulSoup\n",
    "import pandas as pd\n",
    "\n",
    "website_url = requests.get('https://en.wikipedia.org/wiki/List_of_postal_codes_of_Canada:_M').text\n",
    "soup = BeautifulSoup(website_url,'html')\n",
    "my_table = soup.find('table',{'class':'wikitable sortable'})\n",
    "links=my_table.findAll('td')\n",
    "groups={}\n",
    "#Iterating over the links list in Groups of 3, as each Postal Code, Borough and Neighborhood belong to the same group.\n",
    "for i in range(0,len(links),3):\n",
    "    # Extract Postal Code using String slice. All postcodes have this same length and format.\n",
    "    postcode=str(links[i])[4:-5]\n",
    "    # Extract Borough using Regex. All boroughs have title field present.\n",
    "    try:\n",
    "        borough = re.search(r'title=\"(.+?)\"',str(links[i+1])).group(1)\n",
    "    except AttributeError:\n",
    "        borough = '' \n",
    "    # Extract those Neighborhoods which have a title attribute/tag present\n",
    "    try:\n",
    "        neighborhood = re.search(r'title=\"(.+?)\"',str(links[i+2])).group(1)\n",
    "    except AttributeError:\n",
    "        # Extract those Neighborhoods which do not have a title attribute/tag present, by using a regex for the <td> tag\n",
    "        try:\n",
    "            neighborhood = re.search(r'<td>(.+?)\\n</td>',str(links[i+2])).group(1)\n",
    "        except AttributeError:\n",
    "            neighborhood = ''\n",
    "    if(borough!=''):\n",
    "        #For multiple neighborhoods associated with the same Postal codeappend the Neighborhood to the one already present.\n",
    "        if(neighborhood==''or neighborhood=='Not assigned'):\n",
    "            neighborhood=borough\n",
    "        if(postcode in groups.keys()):\n",
    "            groups[postcode][1]=groups[postcode][1]+','+(neighborhood)\n",
    "        else:\n",
    "            groups[postcode]=[borough,neighborhood]"
   ]
  },
  {
   "cell_type": "markdown",
   "metadata": {},
   "source": [
    "#### Convert dictionary into Dataframe with required format\n",
    "\n",
    "Here the dictionary is converted into a dataframe of the required format."
   ]
  },
  {
   "cell_type": "code",
   "execution_count": 32,
   "metadata": {},
   "outputs": [
    {
     "name": "stdout",
     "output_type": "stream",
     "text": [
      "Sample:   PostalCode                 Borough                     Neighborhood\n",
      "0        M3A              North York                        Parkwoods\n",
      "1        M4A              North York                 Victoria Village\n",
      "2        M5A        Downtown Toronto                      Regent Park\n",
      "3        M6A              North York  Lawrence Heights,Lawrence Manor\n",
      "4        M7A        Downtown Toronto           Queen's Park (Toronto)\n",
      "5        M9A  Queen's Park (Toronto)           Queen's Park (Toronto)\n",
      "6        M1B    Scarborough, Toronto  Rouge, Toronto,Malvern, Toronto\n",
      "7        M3B              North York                  Don Mills North\n",
      "8        M4B               East York   Woodbine Gardens,Parkview Hill\n",
      "9        M5B        Downtown Toronto          Ryerson,Garden District\n",
      "Dataframe shape: (100, 3)\n"
     ]
    }
   ],
   "source": [
    "df=pd.DataFrame.from_dict(groups,orient='index',columns=['Borough','Neighborhood'])\n",
    "df.reset_index(inplace=True)\n",
    "df.rename(columns={'index':'PostalCode'},inplace=True)\n",
    "df=df.astype({'PostalCode': 'string','Borough': 'string','Neighborhood':'string'})\n",
    "print('Sample:',df.head(10))\n",
    "print('Dataframe shape:',df.shape)"
   ]
  },
  {
   "cell_type": "markdown",
   "metadata": {},
   "source": [
    "### Import coordinate data from the .csv file URL"
   ]
  },
  {
   "cell_type": "code",
   "execution_count": 33,
   "metadata": {},
   "outputs": [],
   "source": [
    "import csv\n",
    "import requests\n",
    "\n",
    "CSV_URL = 'https://cocl.us/Geospatial_data'\n",
    "\n",
    "\n",
    "with requests.Session() as s:\n",
    "    download = s.get(CSV_URL)\n",
    "\n",
    "    decoded_content = download.content.decode('utf-8')\n",
    "\n",
    "    cr = csv.reader(decoded_content.splitlines(), delimiter=',')\n",
    "    my_list = list(cr)\n",
    "\n",
    "coord_df = pd.DataFrame(my_list) "
   ]
  },
  {
   "cell_type": "code",
   "execution_count": 34,
   "metadata": {},
   "outputs": [],
   "source": [
    "coord_df=coord_df.rename(columns=coord_df.iloc[0])\n",
    "coord_df=coord_df.drop(coord_df.index[0])\n",
    "coord_df=coord_df.astype({'Postal Code': 'string','Latitude': 'float','Longitude':'float'})\n",
    "df_combined = pd.merge(coord_df, df, left_on='Postal Code', right_on='PostalCode')\n",
    "df_combined.drop(['Postal Code'], axis=1,inplace=True)"
   ]
  },
  {
   "cell_type": "markdown",
   "metadata": {},
   "source": [
    "#### Combined Dataframe to have both latitude, longitude along with Postal code details."
   ]
  },
  {
   "cell_type": "code",
   "execution_count": 35,
   "metadata": {},
   "outputs": [
    {
     "data": {
      "text/html": [
       "<div>\n",
       "<style scoped>\n",
       "    .dataframe tbody tr th:only-of-type {\n",
       "        vertical-align: middle;\n",
       "    }\n",
       "\n",
       "    .dataframe tbody tr th {\n",
       "        vertical-align: top;\n",
       "    }\n",
       "\n",
       "    .dataframe thead th {\n",
       "        text-align: right;\n",
       "    }\n",
       "</style>\n",
       "<table border=\"1\" class=\"dataframe\">\n",
       "  <thead>\n",
       "    <tr style=\"text-align: right;\">\n",
       "      <th></th>\n",
       "      <th>Latitude</th>\n",
       "      <th>Longitude</th>\n",
       "      <th>PostalCode</th>\n",
       "      <th>Borough</th>\n",
       "      <th>Neighborhood</th>\n",
       "    </tr>\n",
       "  </thead>\n",
       "  <tbody>\n",
       "    <tr>\n",
       "      <th>0</th>\n",
       "      <td>43.806686</td>\n",
       "      <td>-79.194353</td>\n",
       "      <td>M1B</td>\n",
       "      <td>Scarborough, Toronto</td>\n",
       "      <td>Rouge, Toronto,Malvern, Toronto</td>\n",
       "    </tr>\n",
       "    <tr>\n",
       "      <th>1</th>\n",
       "      <td>43.784535</td>\n",
       "      <td>-79.160497</td>\n",
       "      <td>M1C</td>\n",
       "      <td>Scarborough, Toronto</td>\n",
       "      <td>Highland Creek (Toronto),Rouge Hill,Port Union...</td>\n",
       "    </tr>\n",
       "    <tr>\n",
       "      <th>2</th>\n",
       "      <td>43.763573</td>\n",
       "      <td>-79.188711</td>\n",
       "      <td>M1E</td>\n",
       "      <td>Scarborough, Toronto</td>\n",
       "      <td>Guildwood,Morningside, Toronto,West Hill, Toronto</td>\n",
       "    </tr>\n",
       "    <tr>\n",
       "      <th>3</th>\n",
       "      <td>43.770992</td>\n",
       "      <td>-79.216917</td>\n",
       "      <td>M1G</td>\n",
       "      <td>Scarborough, Toronto</td>\n",
       "      <td>Woburn, Toronto</td>\n",
       "    </tr>\n",
       "    <tr>\n",
       "      <th>4</th>\n",
       "      <td>43.773136</td>\n",
       "      <td>-79.239476</td>\n",
       "      <td>M1H</td>\n",
       "      <td>Scarborough, Toronto</td>\n",
       "      <td>Cedarbrae</td>\n",
       "    </tr>\n",
       "  </tbody>\n",
       "</table>\n",
       "</div>"
      ],
      "text/plain": [
       "    Latitude  Longitude PostalCode               Borough  \\\n",
       "0  43.806686 -79.194353        M1B  Scarborough, Toronto   \n",
       "1  43.784535 -79.160497        M1C  Scarborough, Toronto   \n",
       "2  43.763573 -79.188711        M1E  Scarborough, Toronto   \n",
       "3  43.770992 -79.216917        M1G  Scarborough, Toronto   \n",
       "4  43.773136 -79.239476        M1H  Scarborough, Toronto   \n",
       "\n",
       "                                        Neighborhood  \n",
       "0                    Rouge, Toronto,Malvern, Toronto  \n",
       "1  Highland Creek (Toronto),Rouge Hill,Port Union...  \n",
       "2  Guildwood,Morningside, Toronto,West Hill, Toronto  \n",
       "3                                    Woburn, Toronto  \n",
       "4                                          Cedarbrae  "
      ]
     },
     "execution_count": 35,
     "metadata": {},
     "output_type": "execute_result"
    }
   ],
   "source": [
    "df_combined.head()"
   ]
  },
  {
   "cell_type": "code",
   "execution_count": null,
   "metadata": {},
   "outputs": [],
   "source": []
  }
 ],
 "metadata": {
  "kernelspec": {
   "display_name": "Python 3",
   "language": "python",
   "name": "python3"
  },
  "language_info": {
   "codemirror_mode": {
    "name": "ipython",
    "version": 3
   },
   "file_extension": ".py",
   "mimetype": "text/x-python",
   "name": "python",
   "nbconvert_exporter": "python",
   "pygments_lexer": "ipython3",
   "version": "3.8.1"
  }
 },
 "nbformat": 4,
 "nbformat_minor": 4
}
